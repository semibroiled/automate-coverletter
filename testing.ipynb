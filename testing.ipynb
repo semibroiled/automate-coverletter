{
    "cells": [
        {
            "cell_type": "markdown",
            "source": [
                "This notebook serves the purpose of testing pandas and os code for application to automating doc creation through genering dicts"
            ],
            "metadata": {}
        },
        {
            "cell_type": "code",
            "execution_count": 13,
            "source": [
                "import pandas as pd"
            ],
            "outputs": [],
            "metadata": {}
        },
        {
            "cell_type": "code",
            "execution_count": null,
            "source": [],
            "outputs": [],
            "metadata": {}
        }
    ],
    "metadata": {
        "orig_nbformat": 4,
        "language_info": {
            "name": "python"
        }
    },
    "nbformat": 4,
    "nbformat_minor": 2
}