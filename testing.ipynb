{
    "cells": [
        {
            "cell_type": "markdown",
            "source": [
                "This notebook serves the purpose of testing pandas and os code for application to automating doc creation through genering dicts"
            ],
            "metadata": {}
        },
        {
            "cell_type": "code",
            "execution_count": 13,
            "source": [
                "import pandas as pd"
            ],
            "outputs": [],
            "metadata": {}
        },
        {
            "cell_type": "code",
            "execution_count": 14,
            "source": [
                "data = pd.read_csv('template-data.csv')\n",
                "data.head()"
            ],
            "outputs": [
                {
                    "output_type": "execute_result",
                    "data": {
                        "text/plain": [
                            "     name Company_umbrella Company   Location          job  type  type.1  \\\n",
                            "0     Max      Frauenhofer     IKS  Darmstadt   Praktikant   NaN     NaN   \n",
                            "1   Julia      Frauenhofer     Ips  Darmstadt  Werkstudent   NaN     NaN   \n",
                            "2     Sam      Frauenhofer     Ilk  Darmstadt         HiWi   NaN     NaN   \n",
                            "3    Bill      Frauenhofer     akj  Darmstadt        Tutor   NaN     NaN   \n",
                            "4  Ludqig      Frauenhofer     ahb  Darmstadt   Praktikant   NaN     NaN   \n",
                            "\n",
                            "   title  \n",
                            "0    NaN  \n",
                            "1    NaN  \n",
                            "2    NaN  \n",
                            "3    NaN  \n",
                            "4    NaN  "
                        ],
                        "text/html": [
                            "<div>\n",
                            "<style scoped>\n",
                            "    .dataframe tbody tr th:only-of-type {\n",
                            "        vertical-align: middle;\n",
                            "    }\n",
                            "\n",
                            "    .dataframe tbody tr th {\n",
                            "        vertical-align: top;\n",
                            "    }\n",
                            "\n",
                            "    .dataframe thead th {\n",
                            "        text-align: right;\n",
                            "    }\n",
                            "</style>\n",
                            "<table border=\"1\" class=\"dataframe\">\n",
                            "  <thead>\n",
                            "    <tr style=\"text-align: right;\">\n",
                            "      <th></th>\n",
                            "      <th>name</th>\n",
                            "      <th>Company_umbrella</th>\n",
                            "      <th>Company</th>\n",
                            "      <th>Location</th>\n",
                            "      <th>job</th>\n",
                            "      <th>type</th>\n",
                            "      <th>type.1</th>\n",
                            "      <th>title</th>\n",
                            "    </tr>\n",
                            "  </thead>\n",
                            "  <tbody>\n",
                            "    <tr>\n",
                            "      <td>0</td>\n",
                            "      <td>Max</td>\n",
                            "      <td>Frauenhofer</td>\n",
                            "      <td>IKS</td>\n",
                            "      <td>Darmstadt</td>\n",
                            "      <td>Praktikant</td>\n",
                            "      <td>NaN</td>\n",
                            "      <td>NaN</td>\n",
                            "      <td>NaN</td>\n",
                            "    </tr>\n",
                            "    <tr>\n",
                            "      <td>1</td>\n",
                            "      <td>Julia</td>\n",
                            "      <td>Frauenhofer</td>\n",
                            "      <td>Ips</td>\n",
                            "      <td>Darmstadt</td>\n",
                            "      <td>Werkstudent</td>\n",
                            "      <td>NaN</td>\n",
                            "      <td>NaN</td>\n",
                            "      <td>NaN</td>\n",
                            "    </tr>\n",
                            "    <tr>\n",
                            "      <td>2</td>\n",
                            "      <td>Sam</td>\n",
                            "      <td>Frauenhofer</td>\n",
                            "      <td>Ilk</td>\n",
                            "      <td>Darmstadt</td>\n",
                            "      <td>HiWi</td>\n",
                            "      <td>NaN</td>\n",
                            "      <td>NaN</td>\n",
                            "      <td>NaN</td>\n",
                            "    </tr>\n",
                            "    <tr>\n",
                            "      <td>3</td>\n",
                            "      <td>Bill</td>\n",
                            "      <td>Frauenhofer</td>\n",
                            "      <td>akj</td>\n",
                            "      <td>Darmstadt</td>\n",
                            "      <td>Tutor</td>\n",
                            "      <td>NaN</td>\n",
                            "      <td>NaN</td>\n",
                            "      <td>NaN</td>\n",
                            "    </tr>\n",
                            "    <tr>\n",
                            "      <td>4</td>\n",
                            "      <td>Ludqig</td>\n",
                            "      <td>Frauenhofer</td>\n",
                            "      <td>ahb</td>\n",
                            "      <td>Darmstadt</td>\n",
                            "      <td>Praktikant</td>\n",
                            "      <td>NaN</td>\n",
                            "      <td>NaN</td>\n",
                            "      <td>NaN</td>\n",
                            "    </tr>\n",
                            "  </tbody>\n",
                            "</table>\n",
                            "</div>"
                        ]
                    },
                    "metadata": {},
                    "execution_count": 14
                }
            ],
            "metadata": {}
        },
        {
            "cell_type": "code",
            "execution_count": 16,
            "source": [
                "data.loc[0,'name']"
            ],
            "outputs": [
                {
                    "output_type": "execute_result",
                    "data": {
                        "text/plain": [
                            "'Max'"
                        ]
                    },
                    "metadata": {},
                    "execution_count": 16
                }
            ],
            "metadata": {}
        },
        {
            "cell_type": "code",
            "execution_count": 21,
            "source": [
                "len(data)"
            ],
            "outputs": [
                {
                    "output_type": "execute_result",
                    "data": {
                        "text/plain": [
                            "5"
                        ]
                    },
                    "metadata": {},
                    "execution_count": 21
                }
            ],
            "metadata": {}
        },
        {
            "cell_type": "code",
            "execution_count": 23,
            "source": [
                "for i in range(len(data)):\n",
                "    print(i)"
            ],
            "outputs": [
                {
                    "output_type": "stream",
                    "name": "stdout",
                    "text": [
                        "0\n",
                        "1\n",
                        "2\n",
                        "3\n",
                        "4\n"
                    ]
                }
            ],
            "metadata": {}
        },
        {
            "cell_type": "code",
            "execution_count": 24,
            "source": [
                "import os"
            ],
            "outputs": [],
            "metadata": {}
        },
        {
            "cell_type": "code",
            "execution_count": 25,
            "source": [
                "cwd = os.getcwd()\n",
                "cwd"
            ],
            "outputs": [
                {
                    "output_type": "execute_result",
                    "data": {
                        "text/plain": [
                            "'/Users/amitavchrismostafa/automate-coverletter'"
                        ]
                    },
                    "metadata": {},
                    "execution_count": 25
                }
            ],
            "metadata": {}
        },
        {
            "cell_type": "code",
            "execution_count": null,
            "source": [],
            "outputs": [],
            "metadata": {}
        }
    ],
    "metadata": {
        "orig_nbformat": 4,
        "language_info": {
            "name": "python"
        }
    },
    "nbformat": 4,
    "nbformat_minor": 2
}