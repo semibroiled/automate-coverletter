{
    "cells": [
        {
            "cell_type": "markdown",
            "source": [
                "This notebook serves the purpose of testing pandas and os code for application to automating doc creation through genering dicts"
            ],
            "metadata": {}
        },
        {
            "cell_type": "code",
            "execution_count": 26,
            "source": [
                "import pandas as pd"
            ],
            "outputs": [],
            "metadata": {}
        },
        {
            "cell_type": "code",
            "execution_count": 27,
            "source": [
                "data = pd.read_csv('template-data-da.csv')\n",
                "data.head()"
            ],
            "outputs": [
                {
                    "output_type": "execute_result",
                    "data": {
                        "text/plain": [
                            "                           name           Company_umbrella  \\\n",
                            "0  Herr Dipl.-Ing. Jan Hansmann            Frauenhofer LBF   \n",
                            "1              Frau Diana Pauli  hidden professionals GmbH   \n",
                            "2             Herr Dirk Günther               Optomet GmbH   \n",
                            "3              Frau Jasmin Sand            Frauenhofer LBF   \n",
                            "4             Frau Julia Schütz              Pickware GmbH   \n",
                            "\n",
                            "                                             Company         Location  \\\n",
                            "0  Institut für Betriebsfestigkeit und Systemzuve...  64289 Darmstadt   \n",
                            "1                                    Kaiserstraße 39      55116 Mainz   \n",
                            "2                             Pfungstädter Straße 92  64297 Darmstadt   \n",
                            "3  Institut für Betriebsfestigkeit und Systemzuve...  64289 Darmstadt   \n",
                            "4                                    Goebelstraße 21  64293 Darmstadt   \n",
                            "\n",
                            "                             job           type  text  title  \n",
                            "0  studentische Hilfskraftstelle  Arbeitsgruppe   NaN    NaN  \n",
                            "1    studentische Aushilfestelle          Firma   NaN    NaN  \n",
                            "2              Werkstudentstelle          Firma   NaN    NaN  \n",
                            "3  studentische Hilfskraftstelle  Arbeitsgruppe   NaN    NaN  \n",
                            "4              Werkstudentstelle          Firma   NaN    NaN  "
                        ],
                        "text/html": [
                            "<div>\n",
                            "<style scoped>\n",
                            "    .dataframe tbody tr th:only-of-type {\n",
                            "        vertical-align: middle;\n",
                            "    }\n",
                            "\n",
                            "    .dataframe tbody tr th {\n",
                            "        vertical-align: top;\n",
                            "    }\n",
                            "\n",
                            "    .dataframe thead th {\n",
                            "        text-align: right;\n",
                            "    }\n",
                            "</style>\n",
                            "<table border=\"1\" class=\"dataframe\">\n",
                            "  <thead>\n",
                            "    <tr style=\"text-align: right;\">\n",
                            "      <th></th>\n",
                            "      <th>name</th>\n",
                            "      <th>Company_umbrella</th>\n",
                            "      <th>Company</th>\n",
                            "      <th>Location</th>\n",
                            "      <th>job</th>\n",
                            "      <th>type</th>\n",
                            "      <th>text</th>\n",
                            "      <th>title</th>\n",
                            "    </tr>\n",
                            "  </thead>\n",
                            "  <tbody>\n",
                            "    <tr>\n",
                            "      <td>0</td>\n",
                            "      <td>Herr Dipl.-Ing. Jan Hansmann</td>\n",
                            "      <td>Frauenhofer LBF</td>\n",
                            "      <td>Institut für Betriebsfestigkeit und Systemzuve...</td>\n",
                            "      <td>64289 Darmstadt</td>\n",
                            "      <td>studentische Hilfskraftstelle</td>\n",
                            "      <td>Arbeitsgruppe</td>\n",
                            "      <td>NaN</td>\n",
                            "      <td>NaN</td>\n",
                            "    </tr>\n",
                            "    <tr>\n",
                            "      <td>1</td>\n",
                            "      <td>Frau Diana Pauli</td>\n",
                            "      <td>hidden professionals GmbH</td>\n",
                            "      <td>Kaiserstraße 39</td>\n",
                            "      <td>55116 Mainz</td>\n",
                            "      <td>studentische Aushilfestelle</td>\n",
                            "      <td>Firma</td>\n",
                            "      <td>NaN</td>\n",
                            "      <td>NaN</td>\n",
                            "    </tr>\n",
                            "    <tr>\n",
                            "      <td>2</td>\n",
                            "      <td>Herr Dirk Günther</td>\n",
                            "      <td>Optomet GmbH</td>\n",
                            "      <td>Pfungstädter Straße 92</td>\n",
                            "      <td>64297 Darmstadt</td>\n",
                            "      <td>Werkstudentstelle</td>\n",
                            "      <td>Firma</td>\n",
                            "      <td>NaN</td>\n",
                            "      <td>NaN</td>\n",
                            "    </tr>\n",
                            "    <tr>\n",
                            "      <td>3</td>\n",
                            "      <td>Frau Jasmin Sand</td>\n",
                            "      <td>Frauenhofer LBF</td>\n",
                            "      <td>Institut für Betriebsfestigkeit und Systemzuve...</td>\n",
                            "      <td>64289 Darmstadt</td>\n",
                            "      <td>studentische Hilfskraftstelle</td>\n",
                            "      <td>Arbeitsgruppe</td>\n",
                            "      <td>NaN</td>\n",
                            "      <td>NaN</td>\n",
                            "    </tr>\n",
                            "    <tr>\n",
                            "      <td>4</td>\n",
                            "      <td>Frau Julia Schütz</td>\n",
                            "      <td>Pickware GmbH</td>\n",
                            "      <td>Goebelstraße 21</td>\n",
                            "      <td>64293 Darmstadt</td>\n",
                            "      <td>Werkstudentstelle</td>\n",
                            "      <td>Firma</td>\n",
                            "      <td>NaN</td>\n",
                            "      <td>NaN</td>\n",
                            "    </tr>\n",
                            "  </tbody>\n",
                            "</table>\n",
                            "</div>"
                        ]
                    },
                    "metadata": {},
                    "execution_count": 27
                }
            ],
            "metadata": {}
        },
        {
            "cell_type": "code",
            "execution_count": 28,
            "source": [
                "data.loc[0,'name']"
            ],
            "outputs": [
                {
                    "output_type": "execute_result",
                    "data": {
                        "text/plain": [
                            "'Herr Dipl.-Ing. Jan Hansmann'"
                        ]
                    },
                    "metadata": {},
                    "execution_count": 28
                }
            ],
            "metadata": {}
        },
        {
            "cell_type": "code",
            "execution_count": 29,
            "source": [
                "len(data)"
            ],
            "outputs": [
                {
                    "output_type": "execute_result",
                    "data": {
                        "text/plain": [
                            "26"
                        ]
                    },
                    "metadata": {},
                    "execution_count": 29
                }
            ],
            "metadata": {}
        },
        {
            "cell_type": "code",
            "execution_count": 34,
            "source": [
                "for i in range(len(data)):\n",
                "    print(data.loc[i,'Company_umbrella'])\n",
                "    "
            ],
            "outputs": [
                {
                    "output_type": "stream",
                    "name": "stdout",
                    "text": [
                        "Frauenhofer LBF\n",
                        "hidden professionals GmbH\n",
                        "Optomet GmbH\n",
                        "Frauenhofer LBF\n",
                        "Pickware GmbH\n",
                        "Technische Universität Darmstadt\n",
                        "Technische Universität Darmstadt\n",
                        "Technische Universität Darmstadt\n",
                        "Technische Universität Darmstadt\n",
                        "Technische Universität Darmstadt\n",
                        "Technische Universität Darmstadt\n",
                        "Technische Universität Darmstadt\n",
                        "Technische Universität Darmstadt\n",
                        "Technische Universität Darmstadt\n",
                        "Technische Universität Darmstadt\n",
                        "Technische Universität Darmstadt\n",
                        "Technische Universität Darmstadt\n",
                        "Technische Universität Darmstadt\n",
                        "Technische Universität Darmstadt\n",
                        "Technische Universität Darmstadt\n",
                        "Technische Universität Darmstadt\n",
                        "Technische Universität Darmstadt\n",
                        "Technische Universität Darmstadt\n",
                        "Technische Universität Darmstadt\n",
                        "Leitung Ultraleichtbau\n",
                        "a\n"
                    ]
                }
            ],
            "metadata": {}
        },
        {
            "cell_type": "code",
            "execution_count": 31,
            "source": [
                "import os"
            ],
            "outputs": [],
            "metadata": {}
        },
        {
            "cell_type": "code",
            "execution_count": 32,
            "source": [
                "cwd = os.getcwd()\n",
                "cwd"
            ],
            "outputs": [
                {
                    "output_type": "execute_result",
                    "data": {
                        "text/plain": [
                            "'/Users/amitavchrismostafa/automate-coverletter'"
                        ]
                    },
                    "metadata": {},
                    "execution_count": 32
                }
            ],
            "metadata": {}
        },
        {
            "cell_type": "code",
            "execution_count": null,
            "source": [],
            "outputs": [],
            "metadata": {}
        }
    ],
    "metadata": {
        "orig_nbformat": 4,
        "language_info": {
            "name": "python"
        }
    },
    "nbformat": 4,
    "nbformat_minor": 2
}